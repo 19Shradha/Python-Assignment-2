{
 "cells": [
  {
   "cell_type": "code",
   "execution_count": 7,
   "id": "473f1feb",
   "metadata": {},
   "outputs": [
    {
     "name": "stdout",
     "output_type": "stream",
     "text": [
      "* \r\n",
      "* * \r\n",
      "* * * \r\n",
      "* * * * \r\n",
      "* * * * * \r\n",
      "* * * * \r\n",
      "* * * \r\n",
      "* * \r\n",
      "* \r\n"
     ]
    }
   ],
   "source": [
    "for i in range(0,5):\n",
    "    for j in range(0,i+1):\n",
    "        print(\"*\",end=\" \")\n",
    "    print(\"\\r\")\n",
    "for i in range(4,0,-1):\n",
    "    for j in range(0,i):\n",
    "        print(\"*\",end=\" \")\n",
    "    print(\"\\r\")    \n",
    "    "
   ]
  },
  {
   "cell_type": "code",
   "execution_count": 1,
   "id": "99cf490a",
   "metadata": {},
   "outputs": [
    {
     "name": "stdout",
     "output_type": "stream",
     "text": [
      "enter the string:shradha\n",
      "entered string shradha\n",
      "reversed string is: ahdarhs \n"
     ]
    }
   ],
   "source": [
    "def reverse(string):\n",
    "    reversed_string=\" \"\n",
    "    for i in string:\n",
    "        reversed_string=i + reversed_string\n",
    "    print(\"reversed string is:\",reversed_string)\n",
    "string=input(\"enter the string:\")\n",
    "print(\"entered string\",string)\n",
    "reverse(string)\n",
    "    \n"
   ]
  },
  {
   "cell_type": "raw",
   "id": "613089dc",
   "metadata": {},
   "source": []
  }
 ],
 "metadata": {
  "kernelspec": {
   "display_name": "Python 3",
   "language": "python",
   "name": "python3"
  },
  "language_info": {
   "codemirror_mode": {
    "name": "ipython",
    "version": 3
   },
   "file_extension": ".py",
   "mimetype": "text/x-python",
   "name": "python",
   "nbconvert_exporter": "python",
   "pygments_lexer": "ipython3",
   "version": "3.9.2"
  }
 },
 "nbformat": 4,
 "nbformat_minor": 5
}
